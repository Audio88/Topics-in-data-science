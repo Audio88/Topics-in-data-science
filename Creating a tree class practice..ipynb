{
 "cells": [
  {
   "cell_type": "markdown",
   "metadata": {},
   "source": [
    "Learning about trees, and creating a basic binary tree class.\n",
    "\n",
    "Working through this tutorial here:\n",
    "https://medium.freecodecamp.org/all-you-need-to-know-about-tree-data-structures-bceacb85490c"
   ]
  },
  {
   "cell_type": "code",
   "execution_count": 1,
   "metadata": {},
   "outputs": [],
   "source": [
    "from multiprocessing import Queue"
   ]
  },
  {
   "cell_type": "code",
   "execution_count": 2,
   "metadata": {},
   "outputs": [],
   "source": [
    "class BinaryTree:\n",
    "    #initialize\n",
    "    def __init__(self, value):\n",
    "        self.value = value\n",
    "        self.left = None\n",
    "        self.right = None\n",
    "    \n",
    "    #inserts a value in the left child, unless that node is occupied. \n",
    "    #if occupied the value of the node you are trying to overwrite will become a child node\n",
    "    def insert_left(self, value):\n",
    "        if self.left == None:\n",
    "            self.left = BinaryTree(value)\n",
    "        else:\n",
    "            new_node = BinaryTree(value)\n",
    "            new_node.left = self.left\n",
    "            self.left = new_node\n",
    "   \n",
    "    #same as left insert\n",
    "    def insert_right(self, value):\n",
    "        if self.right == None:\n",
    "            self.right = BinaryTree(value)\n",
    "        else:\n",
    "            new_node = BinaryTree(value)\n",
    "            new_node.right = self.right\n",
    "            self.right = new_node\n",
    "            \n",
    "    #Breadth first traversal\n",
    "    def bfs(self):\n",
    "        queue = Queue()\n",
    "        queue.put(self)\n",
    "\n",
    "        while not queue.empty():\n",
    "            current_node = queue.get()\n",
    "            print(current_node.value)\n",
    "\n",
    "            if current_node.left:\n",
    "                queue.put(current_node.left)\n",
    "\n",
    "            if current_node.right:\n",
    "                queue.put(current_node.right)"
   ]
  },
  {
   "cell_type": "code",
   "execution_count": 3,
   "metadata": {},
   "outputs": [],
   "source": [
    "#create tree\n",
    "a_node = BinaryTree('a')\n",
    "a_node.insert_left('b')\n",
    "a_node.insert_right('c')\n",
    "\n",
    "b_node = a_node.left\n",
    "b_node.insert_left('d')\n",
    "b_node.insert_right('e')\n",
    "\n",
    "c_node = a_node.right\n",
    "c_node.insert_left('f')\n",
    "c_node.insert_right('g')\n",
    "\n",
    "d_node = b_node.left\n",
    "d_node.insert_left('h')\n",
    "d_node.insert_right('i')\n",
    "\n",
    "e_node = b_node.right\n",
    "e_node.insert_left('j')\n",
    "e_node.insert_right('k')\n",
    "\n",
    "f_node = c_node.left\n",
    "f_node.insert_left('l')\n",
    "f_node.insert_right('m')\n",
    "\n",
    "g_node = c_node.right\n",
    "g_node.insert_left('n')\n",
    "g_node.insert_right('o')"
   ]
  },
  {
   "cell_type": "code",
   "execution_count": 4,
   "metadata": {},
   "outputs": [
    {
     "name": "stdout",
     "output_type": "stream",
     "text": [
      "a\n",
      "b\n",
      "c\n",
      "d\n",
      "e\n",
      "f\n",
      "g\n",
      "h\n",
      "i\n",
      "j\n",
      "k\n",
      "l\n",
      "m\n",
      "n\n",
      "o\n"
     ]
    }
   ],
   "source": [
    "a_node.bfs()"
   ]
  },
  {
   "cell_type": "code",
   "execution_count": null,
   "metadata": {},
   "outputs": [],
   "source": []
  }
 ],
 "metadata": {
  "kernelspec": {
   "display_name": "Python 3",
   "language": "python",
   "name": "python3"
  },
  "language_info": {
   "codemirror_mode": {
    "name": "ipython",
    "version": 3
   },
   "file_extension": ".py",
   "mimetype": "text/x-python",
   "name": "python",
   "nbconvert_exporter": "python",
   "pygments_lexer": "ipython3",
   "version": "3.6.5"
  }
 },
 "nbformat": 4,
 "nbformat_minor": 2
}
