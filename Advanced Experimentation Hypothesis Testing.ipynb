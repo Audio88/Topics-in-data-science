{
 "cells": [
  {
   "cell_type": "code",
   "execution_count": 1,
   "metadata": {},
   "outputs": [],
   "source": [
    "import pandas as pd\n",
    "import numpy as np\n",
    "import scipy.stats as stats\n",
    "import matplotlib.pyplot as plt\n",
    "%matplotlib inline"
   ]
  },
  {
   "cell_type": "markdown",
   "metadata": {},
   "source": [
    "## Distribution Comparison Tests/Hypothesis Test\n",
    "\n",
    "1. Did people become less trusting from 2012 to 2014? Compute results for each country in the sample.\n",
    "2. Did people become happier from 2012 to 2014? Compute results for each country in the sample.\n",
    "3. Who reported watching more TV in 2012, men or women?\n",
    "4. Who was more likely to believe people were fair in 2012, people living with a partner or people living alone?\n",
    "5. Pick three or four of the countries in the sample and compare how often people met socially in 2014. Are there differences, and if so, which countries stand out?\n",
    "6. Pick three or four of the countries in the sample and compare how often people took part in social activities, relative to others their age, in 2014. Are there differences, and if so, which countries stand out?"
   ]
  },
  {
   "cell_type": "code",
   "execution_count": 2,
   "metadata": {},
   "outputs": [
    {
     "data": {
      "text/html": [
       "<div>\n",
       "<style scoped>\n",
       "    .dataframe tbody tr th:only-of-type {\n",
       "        vertical-align: middle;\n",
       "    }\n",
       "\n",
       "    .dataframe tbody tr th {\n",
       "        vertical-align: top;\n",
       "    }\n",
       "\n",
       "    .dataframe thead th {\n",
       "        text-align: right;\n",
       "    }\n",
       "</style>\n",
       "<table border=\"1\" class=\"dataframe\">\n",
       "  <thead>\n",
       "    <tr style=\"text-align: right;\">\n",
       "      <th></th>\n",
       "      <th>cntry</th>\n",
       "      <th>idno</th>\n",
       "      <th>year</th>\n",
       "      <th>tvtot</th>\n",
       "      <th>ppltrst</th>\n",
       "      <th>pplfair</th>\n",
       "      <th>pplhlp</th>\n",
       "      <th>happy</th>\n",
       "      <th>sclmeet</th>\n",
       "      <th>sclact</th>\n",
       "      <th>gndr</th>\n",
       "      <th>agea</th>\n",
       "      <th>partner</th>\n",
       "    </tr>\n",
       "  </thead>\n",
       "  <tbody>\n",
       "    <tr>\n",
       "      <th>0</th>\n",
       "      <td>CH</td>\n",
       "      <td>5.0</td>\n",
       "      <td>6</td>\n",
       "      <td>3.0</td>\n",
       "      <td>3.0</td>\n",
       "      <td>10.0</td>\n",
       "      <td>5.0</td>\n",
       "      <td>8.0</td>\n",
       "      <td>5.0</td>\n",
       "      <td>4.0</td>\n",
       "      <td>2.0</td>\n",
       "      <td>60.0</td>\n",
       "      <td>1.0</td>\n",
       "    </tr>\n",
       "    <tr>\n",
       "      <th>1</th>\n",
       "      <td>CH</td>\n",
       "      <td>25.0</td>\n",
       "      <td>6</td>\n",
       "      <td>6.0</td>\n",
       "      <td>5.0</td>\n",
       "      <td>7.0</td>\n",
       "      <td>5.0</td>\n",
       "      <td>9.0</td>\n",
       "      <td>3.0</td>\n",
       "      <td>2.0</td>\n",
       "      <td>2.0</td>\n",
       "      <td>59.0</td>\n",
       "      <td>1.0</td>\n",
       "    </tr>\n",
       "    <tr>\n",
       "      <th>2</th>\n",
       "      <td>CH</td>\n",
       "      <td>26.0</td>\n",
       "      <td>6</td>\n",
       "      <td>1.0</td>\n",
       "      <td>8.0</td>\n",
       "      <td>8.0</td>\n",
       "      <td>8.0</td>\n",
       "      <td>7.0</td>\n",
       "      <td>6.0</td>\n",
       "      <td>3.0</td>\n",
       "      <td>1.0</td>\n",
       "      <td>24.0</td>\n",
       "      <td>2.0</td>\n",
       "    </tr>\n",
       "    <tr>\n",
       "      <th>3</th>\n",
       "      <td>CH</td>\n",
       "      <td>28.0</td>\n",
       "      <td>6</td>\n",
       "      <td>4.0</td>\n",
       "      <td>6.0</td>\n",
       "      <td>6.0</td>\n",
       "      <td>7.0</td>\n",
       "      <td>10.0</td>\n",
       "      <td>6.0</td>\n",
       "      <td>2.0</td>\n",
       "      <td>2.0</td>\n",
       "      <td>64.0</td>\n",
       "      <td>1.0</td>\n",
       "    </tr>\n",
       "    <tr>\n",
       "      <th>4</th>\n",
       "      <td>CH</td>\n",
       "      <td>29.0</td>\n",
       "      <td>6</td>\n",
       "      <td>5.0</td>\n",
       "      <td>6.0</td>\n",
       "      <td>7.0</td>\n",
       "      <td>5.0</td>\n",
       "      <td>8.0</td>\n",
       "      <td>7.0</td>\n",
       "      <td>2.0</td>\n",
       "      <td>2.0</td>\n",
       "      <td>55.0</td>\n",
       "      <td>1.0</td>\n",
       "    </tr>\n",
       "  </tbody>\n",
       "</table>\n",
       "</div>"
      ],
      "text/plain": [
       "  cntry  idno  year  tvtot  ppltrst  pplfair  pplhlp  happy  sclmeet  sclact  \\\n",
       "0    CH   5.0     6    3.0      3.0     10.0     5.0    8.0      5.0     4.0   \n",
       "1    CH  25.0     6    6.0      5.0      7.0     5.0    9.0      3.0     2.0   \n",
       "2    CH  26.0     6    1.0      8.0      8.0     8.0    7.0      6.0     3.0   \n",
       "3    CH  28.0     6    4.0      6.0      6.0     7.0   10.0      6.0     2.0   \n",
       "4    CH  29.0     6    5.0      6.0      7.0     5.0    8.0      7.0     2.0   \n",
       "\n",
       "   gndr  agea  partner  \n",
       "0   2.0  60.0      1.0  \n",
       "1   2.0  59.0      1.0  \n",
       "2   1.0  24.0      2.0  \n",
       "3   2.0  64.0      1.0  \n",
       "4   2.0  55.0      1.0  "
      ]
     },
     "execution_count": 2,
     "metadata": {},
     "output_type": "execute_result"
    }
   ],
   "source": [
    "df = pd.read_csv('ESSData.csv')\n",
    "df.head()"
   ]
  },
  {
   "cell_type": "code",
   "execution_count": 3,
   "metadata": {},
   "outputs": [
    {
     "data": {
      "text/plain": [
       "cntry        0\n",
       "idno         0\n",
       "year         0\n",
       "tvtot        8\n",
       "ppltrst     14\n",
       "pplfair     39\n",
       "pplhlp      25\n",
       "happy       31\n",
       "sclmeet     15\n",
       "sclact      94\n",
       "gndr        10\n",
       "agea       239\n",
       "partner     17\n",
       "dtype: int64"
      ]
     },
     "execution_count": 3,
     "metadata": {},
     "output_type": "execute_result"
    }
   ],
   "source": [
    "df.isnull().sum()"
   ]
  },
  {
   "cell_type": "code",
   "execution_count": 4,
   "metadata": {},
   "outputs": [
    {
     "data": {
      "text/plain": [
       "cntry        0\n",
       "idno         0\n",
       "year         0\n",
       "tvtot        0\n",
       "ppltrst      0\n",
       "pplfair      0\n",
       "pplhlp      14\n",
       "happy        0\n",
       "sclmeet      0\n",
       "sclact       0\n",
       "gndr        10\n",
       "agea       226\n",
       "partner     16\n",
       "dtype: int64"
      ]
     },
     "execution_count": 4,
     "metadata": {},
     "output_type": "execute_result"
    }
   ],
   "source": [
    "df.dropna(subset=['ppltrst', 'pplfair', 'tvtot', 'happy', 'sclmeet', 'sclact'], inplace=True)\n",
    "df.isnull().sum()"
   ]
  },
  {
   "cell_type": "code",
   "execution_count": 5,
   "metadata": {},
   "outputs": [
    {
     "data": {
      "text/plain": [
       "array(['CH', 'CZ', 'DE', 'ES', 'NO', 'SE'], dtype=object)"
      ]
     },
     "execution_count": 5,
     "metadata": {},
     "output_type": "execute_result"
    }
   ],
   "source": [
    "df.cntry.unique()"
   ]
  },
  {
   "cell_type": "code",
   "execution_count": 6,
   "metadata": {},
   "outputs": [
    {
     "data": {
      "text/plain": [
       "array([6, 7], dtype=int64)"
      ]
     },
     "execution_count": 6,
     "metadata": {},
     "output_type": "execute_result"
    }
   ],
   "source": [
    "#Year six is 2012, year 7 is 2014\n",
    "df.year.unique()"
   ]
  },
  {
   "cell_type": "markdown",
   "metadata": {},
   "source": [
    "1. Did people become less trusting from 2012 to 2014? Compute results for each country in the sample."
   ]
  },
  {
   "cell_type": "code",
   "execution_count": 7,
   "metadata": {},
   "outputs": [
    {
     "data": {
      "image/png": "[encoded data removed]",
      "text/plain": [
       "<Figure size 432x288 with 1 Axes>"
      ]
     },
     "metadata": {},
     "output_type": "display_data"
    }
   ],
   "source": [
    "stats.probplot(df.ppltrst[(df.year == 6) & (df.cntry == 'CH')], dist=\"norm\", plot=plt)\n",
    "plt.show()"
   ]
  },
  {
   "cell_type": "code",
   "execution_count": 8,
   "metadata": {
    "scrolled": true
   },
   "outputs": [
    {
     "data": {
      "image/png": "[encoded data removed]",
      "text/plain": [
       "<Figure size 432x288 with 1 Axes>"
      ]
     },
     "metadata": {},
     "output_type": "display_data"
    }
   ],
   "source": [
    "plt.hist(df.ppltrst[(df.year == 6) & (df.cntry == 'CH')], alpha=.5, bins=26, color='g', label='2012') \n",
    "plt.hist(df.ppltrst[(df.year == 7) & (df.cntry == 'CH')], alpha=.5, bins=26, label='2014') \n",
    "plt.title('Plotting Trust for Switzerland in 2012 and 2014')\n",
    "plt.legend(loc='upper right')\n",
    "plt.ylabel('Counts')\n",
    "plt.xlabel('0 to 10 scale')\n",
    "plt.grid(alpha=.3)\n",
    "plt.show()"
   ]
  },
  {
   "cell_type": "markdown",
   "metadata": {},
   "source": [
    "Doesn't look like trust has changed much from 2012 to 2014 in Switzerland. Lets check our Distribution Comparison Tests for all the countrys."
   ]
  },
  {
   "cell_type": "code",
   "execution_count": 9,
   "metadata": {
    "scrolled": false
   },
   "outputs": [
    {
     "name": "stdout",
     "output_type": "stream",
     "text": [
      "T-Tests:\n",
      "CH: Ttest_indResult(statistic=-0.7772099533250093, pvalue=0.43715616892261766)\n",
      "CZ: Ttest_indResult(statistic=-0.32026403771884376, pvalue=0.7488214950188212)\n",
      "DE: Ttest_indResult(statistic=-0.3466213170125284, pvalue=0.7317764273785732)\n",
      "ES: Ttest_indResult(statistic=2.4319380029800253, pvalue=0.015092105392546113)\n",
      "NO: Ttest_indResult(statistic=0.5275900924621241, pvalue=0.5978647000545039)\n",
      "SE: Ttest_indResult(statistic=-1.9398892589653978, pvalue=0.05254978625543044)\n",
      "\n",
      "Mann-Whitney U test:\n",
      "CH: MannwhitneyuResult(statistic=282672.0, pvalue=0.2629016646444847)\n",
      "CZ: MannwhitneyuResult(statistic=192968.0, pvalue=0.24169984534235633)\n",
      "DE: MannwhitneyuResult(statistic=84.0, pvalue=0.3741417871944901)\n",
      "ES: MannwhitneyuResult(statistic=653128.0, pvalue=0.0025551595841919214)\n",
      "NO: MannwhitneyuResult(statistic=259371.5, pvalue=0.3297489707019867)\n",
      "SE: MannwhitneyuResult(statistic=381607.0, pvalue=0.025224296065177624)\n",
      "Counts for each country:\n"
     ]
    },
    {
     "data": {
      "text/plain": [
       "ES    2365\n",
       "SE    1795\n",
       "CH    1518\n",
       "NO    1450\n",
       "CZ    1257\n",
       "DE      27\n",
       "Name: cntry, dtype: int64"
      ]
     },
     "execution_count": 9,
     "metadata": {},
     "output_type": "execute_result"
    }
   ],
   "source": [
    "print('T-Tests:')\n",
    "for x in df.cntry.unique():\n",
    "    print( x+':', stats.ttest_ind(\n",
    "        df.ppltrst[(df.year == 6) & (df.cntry == x)],\n",
    "        df.ppltrst[(df.year == 7) & (df.cntry == x)]))\n",
    "    \n",
    "print('\\nMann-Whitney U test:')\n",
    "for x in df.cntry.unique():\n",
    "    print(x+':', stats.mannwhitneyu(\n",
    "        df.ppltrst[(df.year == 6) & (df.cntry == x)],\n",
    "        df.ppltrst[(df.year == 7) & (df.cntry == x)]))\n",
    "    \n",
    "print('Counts for each country:')\n",
    "df.cntry.value_counts()"
   ]
  },
  {
   "cell_type": "markdown",
   "metadata": {},
   "source": [
    "Spain(ES) and Sweden(EN), have the largest diffence between each year, and also show low probabilities that this happned by chance. "
   ]
  },
  {
   "cell_type": "code",
   "execution_count": 10,
   "metadata": {},
   "outputs": [
    {
     "data": {
      "image/png": "[encoded data removed]",
      "text/plain": [
       "<Figure size 432x288 with 1 Axes>"
      ]
     },
     "metadata": {},
     "output_type": "display_data"
    }
   ],
   "source": [
    "plt.hist(df.ppltrst[(df.year == 6) & (df.cntry == 'ES')], alpha=.5, bins=26, color='g', label='2012') \n",
    "plt.hist(df.ppltrst[(df.year == 7) & (df.cntry == 'ES')], alpha=.5, bins=26, label='2014') \n",
    "plt.title('Plotting Trust for Spain in 2012 and 2014')\n",
    "plt.legend(loc='upper right')\n",
    "plt.ylabel('Counts')\n",
    "plt.xlabel('0 to 10 scale')\n",
    "plt.grid(alpha=.3)\n",
    "plt.show()"
   ]
  },
  {
   "cell_type": "code",
   "execution_count": 11,
   "metadata": {},
   "outputs": [
    {
     "data": {
      "image/png": "[encoded data removed]",
      "text/plain": [
       "<Figure size 432x288 with 1 Axes>"
      ]
     },
     "metadata": {},
     "output_type": "display_data"
    }
   ],
   "source": [
    "plt.hist(df.ppltrst[(df.year == 6) & (df.cntry == 'SE')], alpha=.5, bins=26, color='g', label='2012') \n",
    "plt.hist(df.ppltrst[(df.year == 7) & (df.cntry == 'SE')], alpha=.5, bins=26, label='2014') \n",
    "plt.title('Plotting Trust for Sweden in 2012 and 2014')\n",
    "plt.legend(loc='upper right')\n",
    "plt.ylabel('Counts')\n",
    "plt.xlabel('0 to 10 scale')\n",
    "plt.grid(alpha=.3)\n",
    "plt.show()"
   ]
  },
  {
   "cell_type": "markdown",
   "metadata": {},
   "source": [
    "## 1 Trust\n",
    "\n",
    "Trust changed in spain and sweden. Trust in sweden went up, and trust in spain went down. Our statistics test tell us this change is significant.\n",
    "\n",
    "2. Did people become happier from 2012 to 2014? Compute results for each country in the sample."
   ]
  },
  {
   "cell_type": "code",
   "execution_count": 12,
   "metadata": {},
   "outputs": [
    {
     "name": "stdout",
     "output_type": "stream",
     "text": [
      "T-Tests:\n",
      "CH: Ttest_indResult(statistic=-0.5934020342298979, pvalue=0.5530006465946266)\n",
      "CZ: Ttest_indResult(statistic=-1.4055023024438296, pvalue=0.160119465164377)\n",
      "DE: Ttest_indResult(statistic=-0.966317541228559, pvalue=0.3431409128727073)\n",
      "ES: Ttest_indResult(statistic=1.614808616020929, pvalue=0.10648565241069587)\n",
      "NO: Ttest_indResult(statistic=4.240692686305424, pvalue=2.369491209908194e-05)\n",
      "SE: Ttest_indResult(statistic=-0.4214090613317877, pvalue=0.6735069160455964)\n",
      "\n",
      "Mann-Whitney U test:\n",
      "CH: MannwhitneyuResult(statistic=282186.5, pvalue=0.24006889533256753)\n",
      "CZ: MannwhitneyuResult(statistic=189710.0, pvalue=0.11168730053289633)\n",
      "DE: MannwhitneyuResult(statistic=73.5, pvalue=0.19313536018324134)\n",
      "ES: MannwhitneyuResult(statistic=668362.0, pvalue=0.029927183451465153)\n",
      "NO: MannwhitneyuResult(statistic=229129.5, pvalue=6.590324681023957e-06)\n",
      "SE: MannwhitneyuResult(statistic=401487.0, pvalue=0.4528066845040522)\n",
      "\n",
      "Counts for each country: ES    2365\n",
      "SE    1795\n",
      "CH    1518\n",
      "NO    1450\n",
      "CZ    1257\n",
      "DE      27\n",
      "Name: cntry, dtype: int64\n"
     ]
    }
   ],
   "source": [
    "print('T-Tests:')\n",
    "for x in df.cntry.unique():\n",
    "    print( x+':', stats.ttest_ind(\n",
    "        df.happy[(df.year == 6) & (df.cntry == x)],\n",
    "        df.happy[(df.year == 7) & (df.cntry == x)]))\n",
    "    \n",
    "print('\\nMann-Whitney U test:')\n",
    "for x in df.cntry.unique():\n",
    "    print(x+':', stats.mannwhitneyu(\n",
    "        df.happy[(df.year == 6) & (df.cntry == x)],\n",
    "        df.happy[(df.year == 7) & (df.cntry == x)]))\n",
    "    \n",
    "print('\\nCounts for each country:', df.cntry.value_counts())"
   ]
  },
  {
   "cell_type": "code",
   "execution_count": 13,
   "metadata": {},
   "outputs": [
    {
     "data": {
      "image/png": "[encoded data removed]",
      "text/plain": [
       "<Figure size 432x288 with 1 Axes>"
      ]
     },
     "metadata": {},
     "output_type": "display_data"
    }
   ],
   "source": [
    "plt.hist(df.happy[(df.year == 6) & (df.cntry == 'NO')], alpha=.5, bins=26, color='g', label='2012') \n",
    "plt.hist(df.happy[(df.year == 7) & (df.cntry == 'NO')], alpha=.5, bins=26, label='2014') \n",
    "plt.title('Plotting Happiness for Norway in 2012 and 2014')\n",
    "plt.legend(loc='upper right')\n",
    "plt.ylabel('Counts')\n",
    "plt.xlabel('0 to 10 scale')\n",
    "plt.grid(alpha=.3)\n",
    "plt.show()"
   ]
  },
  {
   "cell_type": "code",
   "execution_count": 14,
   "metadata": {},
   "outputs": [
    {
     "data": {
      "image/png": "[encoded data removed]",
      "text/plain": [
       "<Figure size 432x288 with 1 Axes>"
      ]
     },
     "metadata": {},
     "output_type": "display_data"
    },
    {
     "name": "stdout",
     "output_type": "stream",
     "text": [
      "8.0     282\n",
      "9.0     198\n",
      "7.0     170\n",
      "10.0    125\n",
      "6.0      53\n",
      "5.0      44\n",
      "4.0      13\n",
      "3.0       7\n",
      "2.0       3\n",
      "1.0       2\n",
      "Name: happy, dtype: int64\n",
      "8.0     303\n",
      "9.0     213\n",
      "7.0     157\n",
      "10.0    107\n",
      "6.0      57\n",
      "5.0      41\n",
      "4.0      14\n",
      "3.0       6\n",
      "Name: happy, dtype: int64\n"
     ]
    }
   ],
   "source": [
    "plt.hist(df.happy[(df.year == 6) & (df.cntry == 'SE')], alpha=.5, bins=26, color='g', label='2012') \n",
    "plt.hist(df.happy[(df.year == 7) & (df.cntry == 'SE')], alpha=.5, bins=26, label='2014') \n",
    "plt.title('Plotting Happiness for Sweden in 2012 and 2014')\n",
    "plt.legend(loc='upper right')\n",
    "plt.ylabel('Counts')\n",
    "plt.xlabel('0 to 10 scale')\n",
    "plt.grid(alpha=.3)\n",
    "plt.show()\n",
    "\n",
    "print(df.happy[(df.year == 6) & (df.cntry == 'SE')].value_counts())\n",
    "print(df.happy[(df.year == 7) & (df.cntry == 'SE')].value_counts())"
   ]
  },
  {
   "cell_type": "markdown",
   "metadata": {},
   "source": [
    "## 2 happiness\n",
    "Sweden was one of two countries with significant results, and in only one test, the mann whitney. This distribution doens't seem to favor T-test. However, The difference between both years for sweden is very minimal. Happiness didn't change in sweden.\n",
    "\n",
    "In norway it looks like people got a lot happier! Very interesting and the results are very significant in both test, and the visuals tell the same story.\n",
    "\n",
    "3. Who reported watching more TV in 2012, men or women?"
   ]
  },
  {
   "cell_type": "markdown",
   "metadata": {},
   "source": [
    "Looking at how much TV men/women watch. "
   ]
  },
  {
   "cell_type": "code",
   "execution_count": 36,
   "metadata": {},
   "outputs": [
    {
     "data": {
      "image/png": "[encoded data removed]",
      "text/plain": [
       "<Figure size 432x288 with 1 Axes>"
      ]
     },
     "metadata": {},
     "output_type": "display_data"
    }
   ],
   "source": [
    "plt.hist(df.tvtot[(df.year == 6) & (df.gndr == 1)], alpha=.5, bins=26, label='Men') \n",
    "plt.hist(df.tvtot[(df.year == 6) & (df.gndr == 2)], alpha=.5, bins=26, label='Women') \n",
    "plt.title('Plotting TV self report for men and women 2012')\n",
    "plt.legend(loc='upper left')\n",
    "plt.ylabel('Counts')\n",
    "plt.xlabel('0 to 7 scale')\n",
    "plt.grid(alpha=.3)\n",
    "plt.show()"
   ]
  },
  {
   "cell_type": "code",
   "execution_count": 16,
   "metadata": {},
   "outputs": [
    {
     "name": "stdout",
     "output_type": "stream",
     "text": [
      "T-Tests:\n",
      "Ttest_indResult(statistic=-0.656246013087417, pvalue=0.5117018146228687)\n",
      "\n",
      "Mann-Whitney U test:\n",
      "MannwhitneyuResult(statistic=2177533.5, pvalue=0.24074218749835474)\n"
     ]
    }
   ],
   "source": [
    "print('T-Tests:')\n",
    "print(stats.ttest_ind(\n",
    "        df.tvtot[(df.year == 6) & (df.gndr == 1)],\n",
    "        df.tvtot[(df.year == 6) & (df.gndr == 2)]))\n",
    "\n",
    "print('\\nMann-Whitney U test:')\n",
    "print(stats.mannwhitneyu(\n",
    "        df.tvtot[(df.year == 6) & (df.gndr == 1)],\n",
    "        df.tvtot[(df.year == 6) & (df.gndr == 2)]))"
   ]
  },
  {
   "cell_type": "markdown",
   "metadata": {},
   "source": [
    "## 3 TV men/women 2012\n",
    "\n",
    "No significant difference in our distributions. Men and women watch the same amount of TV.\n",
    "\n",
    "4. Who was more likely to believe people were fair in 2012, people living with a partner or people living alone?"
   ]
  },
  {
   "cell_type": "code",
   "execution_count": 17,
   "metadata": {},
   "outputs": [
    {
     "data": {
      "image/png": "[encoded data removed]",
      "text/plain": [
       "<Figure size 432x288 with 1 Axes>"
      ]
     },
     "metadata": {},
     "output_type": "display_data"
    }
   ],
   "source": [
    "#1 is couple 2 is single.\n",
    "plt.hist(df.pplfair[(df.year == 6) & (df.partner == 1)], alpha=.5, bins=26, label='Single') \n",
    "plt.hist(df.pplfair[(df.year == 6) & (df.partner == 2)], alpha=.5, bins=26, label='Couple') \n",
    "plt.title('Fairness in 2012')\n",
    "plt.legend(loc='upper right')\n",
    "plt.ylabel('Counts')\n",
    "plt.xlabel('0 to 10 scale')\n",
    "plt.grid(alpha=.3)\n",
    "plt.show()"
   ]
  },
  {
   "cell_type": "code",
   "execution_count": 18,
   "metadata": {},
   "outputs": [
    {
     "name": "stdout",
     "output_type": "stream",
     "text": [
      "T-Tests:\n",
      "Ttest_indResult(statistic=-0.656246013087417, pvalue=0.5117018146228687)\n",
      "\n",
      "Mann-Whitney U test:\n",
      "MannwhitneyuResult(statistic=2177533.5, pvalue=0.24074218749835474)\n"
     ]
    }
   ],
   "source": [
    "print('T-Tests:')\n",
    "print(stats.ttest_ind(\n",
    "        df.tvtot[(df.year == 6) & (df.gndr == 1)],\n",
    "        df.tvtot[(df.year == 6) & (df.gndr == 2)]))\n",
    "\n",
    "print('\\nMann-Whitney U test:')\n",
    "print(stats.mannwhitneyu(\n",
    "        df.tvtot[(df.year == 6) & (df.gndr == 1)],\n",
    "        df.tvtot[(df.year == 6) & (df.gndr == 2)]))"
   ]
  },
  {
   "cell_type": "markdown",
   "metadata": {},
   "source": [
    "## 4 Fairness singles/couples\n",
    "\n",
    "The distributions are the same. No difference between singles/couples.\n",
    "\n",
    "5. Pick three or four of the countries in the sample and compare how often people met socially in 2014. Are there differences, and if so, which countries stand out?"
   ]
  },
  {
   "cell_type": "code",
   "execution_count": 26,
   "metadata": {},
   "outputs": [
    {
     "name": "stdout",
     "output_type": "stream",
     "text": [
      "\n",
      "Counts for each country:\n",
      " ES    2304\n",
      "SE    1727\n",
      "CH    1476\n",
      "NO    1424\n",
      "CZ    1228\n",
      "DE      27\n",
      "Name: cntry, dtype: int64\n"
     ]
    }
   ],
   "source": [
    "print('\\nCounts for each country:\\n', df.cntry.value_counts())"
   ]
  },
  {
   "cell_type": "code",
   "execution_count": 35,
   "metadata": {},
   "outputs": [
    {
     "data": {
      "image/png": "[encoded data removed]",
      "text/plain": [
       "<Figure size 432x288 with 1 Axes>"
      ]
     },
     "metadata": {},
     "output_type": "display_data"
    }
   ],
   "source": [
    "plt.hist(df.sclmeet[(df.year == 7) & (df.cntry == 'ES')], alpha=.5, bins=26, label='Spain') \n",
    "plt.hist(df.sclmeet[(df.year == 7) & (df.cntry == 'SE')], alpha=.5, bins=26, label='Sweden') \n",
    "plt.hist(df.sclmeet[(df.year == 7) & (df.cntry == 'CH')], alpha=.5, bins=26, label='Switzerland') \n",
    "plt.title('Plotting self report for social meet ups in 2014')\n",
    "plt.legend(loc='upper left')\n",
    "plt.ylabel('Counts')\n",
    "plt.xlabel('1 to 7 scale')\n",
    "plt.grid(alpha=.3)\n",
    "plt.show()"
   ]
  },
  {
   "cell_type": "code",
   "execution_count": 31,
   "metadata": {},
   "outputs": [
    {
     "name": "stdout",
     "output_type": "stream",
     "text": [
      "F_onewayResult(statistic=7.483599123067613, pvalue=0.0005737679843822478)\n",
      "KruskalResult(statistic=19.82270686609307, pvalue=4.960824872869454e-05)\n"
     ]
    }
   ],
   "source": [
    "ftest = stats.f_oneway(\n",
    "    df.sclmeet[(df.year == 7) & (df.cntry == 'ES')], \n",
    "    df.sclmeet[(df.year == 7) & (df.cntry == 'SE')], \n",
    "    df.sclmeet[(df.year == 7) & (df.cntry == 'CH')])\n",
    "\n",
    "krusk = stats.kruskal(\n",
    "    df.sclmeet[(df.year == 7) & (df.cntry == 'ES')], \n",
    "    df.sclmeet[(df.year == 7) & (df.cntry == 'SE')], \n",
    "    df.sclmeet[(df.year == 7) & (df.cntry == 'CH')])\n",
    "\n",
    "print(ftest)\n",
    "print(krusk)"
   ]
  },
  {
   "cell_type": "markdown",
   "metadata": {},
   "source": [
    "## 5 Social Meet ups \n",
    "This test confirms that one or more countries are different then the average distribution of the three. Looking at the graph spain has odd results for a rating of 5, and switzerland has odd results for a rating of 7. We can run more tests on these distrubtions to confirm, but the visualizations are pretty clear. Sweden looks very similar to the assumed average, the other two are different then the assumed average distribution.\n",
    "\n",
    "\n",
    "6. Pick three or four of the countries in the sample and compare how often people took part in social activities, relative to others their age, in 2014. Are there differences, and if so, which countries stand out?"
   ]
  },
  {
   "cell_type": "code",
   "execution_count": 25,
   "metadata": {},
   "outputs": [
    {
     "name": "stdout",
     "output_type": "stream",
     "text": [
      "people count: 8186 \n",
      "age group counts:\n"
     ]
    },
    {
     "data": {
      "text/plain": [
       "Teen            548\n",
       "Adult          3164\n",
       "Middle_aged    2864\n",
       "Old_aged       1610\n",
       "dtype: int64"
      ]
     },
     "execution_count": 25,
     "metadata": {},
     "output_type": "execute_result"
    }
   ],
   "source": [
    "#Drop rows where age was missing\n",
    "df.dropna(subset=['agea'], inplace=True)\n",
    "\n",
    "# create age groups\n",
    "df['Teen'] = np.where((df.agea < 20), 1, 0)\n",
    "df['Adult'] = np.where(((df.agea < 45) & (df.agea >= 20)), 1, 0)\n",
    "df['Middle_aged'] = np.where(((df.agea < 65) & (df.agea >= 45)), 1, 0)\n",
    "df['Old_aged'] = np.where((df.agea >= 65), 1, 0)\n",
    "\n",
    "print('people count:', df.shape[0], '\\nage group counts:')\n",
    "df[['Teen', 'Adult', 'Middle_aged', 'Old_aged']].sum()"
   ]
  },
  {
   "cell_type": "code",
   "execution_count": 37,
   "metadata": {},
   "outputs": [
    {
     "name": "stdout",
     "output_type": "stream",
     "text": [
      "F_onewayResult(statistic=5.403785689116383, pvalue=0.004628497057934023)\n",
      "KruskalResult(statistic=10.413021528193111, pvalue=0.005480764041570381)\n"
     ]
    }
   ],
   "source": [
    "print(stats.f_oneway(\n",
    "    df.sclact[(df.year == 7) & (df.cntry == 'ES') & (df.Adult == 1)], \n",
    "    df.sclact[(df.year == 7) & (df.cntry == 'SE') & (df.Adult == 1)], \n",
    "    df.sclact[(df.year == 7) & (df.cntry == 'CH') & (df.Adult == 1)]))\n",
    "    \n",
    "print(stats.kruskal(\n",
    "    df.sclact[(df.year == 7) & (df.cntry == 'ES') & (df.Adult == 1)], \n",
    "    df.sclact[(df.year == 7) & (df.cntry == 'SE') & (df.Adult == 1)], \n",
    "    df.sclact[(df.year == 7) & (df.cntry == 'CH') & (df.Adult == 1)]))"
   ]
  },
  {
   "cell_type": "markdown",
   "metadata": {},
   "source": [
    "There is a difference between one of the groups and the average distrubtion of the three, lets take a look at the histogram, and then we will run more test."
   ]
  },
  {
   "cell_type": "code",
   "execution_count": 39,
   "metadata": {},
   "outputs": [
    {
     "data": {
      "image/png": "[encoded data removed]",
      "text/plain": [
       "<Figure size 432x288 with 1 Axes>"
      ]
     },
     "metadata": {},
     "output_type": "display_data"
    }
   ],
   "source": [
    "plt.hist(df.sclact[(df.year == 7) & (df.cntry == 'ES') & (df.Adult == 1)], alpha=.5, bins=26, label='Spain') \n",
    "plt.hist(df.sclact[(df.year == 7) & (df.cntry == 'SE') & (df.Adult == 1)], alpha=.5, bins=26, label='Sweden') \n",
    "plt.hist(df.sclact[(df.year == 7) & (df.cntry == 'CH') & (df.Adult == 1)], alpha=.5, bins=26, label='Switzerland') \n",
    "plt.title('Plotting self report for social meet ups in 2014')\n",
    "plt.legend(loc='upper left')\n",
    "plt.ylabel('Counts')\n",
    "plt.xlabel('1 to 5 scale')\n",
    "plt.grid(alpha=.3)\n",
    "plt.show()"
   ]
  },
  {
   "cell_type": "markdown",
   "metadata": {},
   "source": [
    "Spain looks the most different here, very few counts for ratings 4/5 despite having a higher overal count. Lets compare switzerland and sweden to see if they are similar."
   ]
  },
  {
   "cell_type": "code",
   "execution_count": 44,
   "metadata": {},
   "outputs": [
    {
     "name": "stdout",
     "output_type": "stream",
     "text": [
      "MannwhitneyuResult(statistic=39699.5, pvalue=0.028972081502178254)\n",
      "Ttest_indResult(statistic=-2.062407075200466, pvalue=0.03960842913089293)\n"
     ]
    }
   ],
   "source": [
    "print(stats.mannwhitneyu(\n",
    "    df.sclact[(df.year == 7) & (df.cntry == 'CH') & (df.Adult == 1)],\n",
    "    df.sclact[(df.year == 7) & (df.cntry == 'SE') & (df.Adult == 1)]\n",
    "    ))\n",
    "print(stats.ttest_ind(\n",
    "    df.sclact[(df.year == 7) & (df.cntry == 'CH') & (df.Adult == 1)],\n",
    "    df.sclact[(df.year == 7) & (df.cntry == 'SE') & (df.Adult == 1)]))"
   ]
  },
  {
   "cell_type": "markdown",
   "metadata": {},
   "source": [
    "Looks like there are differences between switzerland and sweden as well. Lets go back and double check spain vs sweden"
   ]
  },
  {
   "cell_type": "code",
   "execution_count": 45,
   "metadata": {},
   "outputs": [
    {
     "name": "stdout",
     "output_type": "stream",
     "text": [
      "MannwhitneyuResult(statistic=54472.5, pvalue=0.0006149023311358213)\n",
      "Ttest_indResult(statistic=-3.31107104892102, pvalue=0.0009755582483945176)\n"
     ]
    }
   ],
   "source": [
    "print(stats.mannwhitneyu(\n",
    "    df.sclact[(df.year == 7) & (df.cntry == 'ES') & (df.Adult == 1)],\n",
    "    df.sclact[(df.year == 7) & (df.cntry == 'SE') & (df.Adult == 1)]\n",
    "    ))\n",
    "print(stats.ttest_ind(\n",
    "    df.sclact[(df.year == 7) & (df.cntry == 'ES') & (df.Adult == 1)],\n",
    "    df.sclact[(df.year == 7) & (df.cntry == 'SE') & (df.Adult == 1)]))"
   ]
  },
  {
   "cell_type": "markdown",
   "metadata": {},
   "source": [
    "Much lower pvalues for this comparison, which means more significant differences. Also, larger difference acording to t-test statistic."
   ]
  }
 ],
 "metadata": {
  "kernelspec": {
   "display_name": "Python 3",
   "language": "python",
   "name": "python3"
  },
  "language_info": {
   "codemirror_mode": {
    "name": "ipython",
    "version": 3
   },
   "file_extension": ".py",
   "mimetype": "text/x-python",
   "name": "python",
   "nbconvert_exporter": "python",
   "pygments_lexer": "ipython3",
   "version": "3.6.5"
  }
 },
 "nbformat": 4,
 "nbformat_minor": 2
}
